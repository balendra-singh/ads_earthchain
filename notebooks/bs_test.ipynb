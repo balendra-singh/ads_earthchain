{
 "cells": [
  {
   "cell_type": "code",
   "execution_count": 18,
   "metadata": {},
   "outputs": [
    {
     "data": {
      "text/html": [
       "<div>\n",
       "<style scoped>\n",
       "    .dataframe tbody tr th:only-of-type {\n",
       "        vertical-align: middle;\n",
       "    }\n",
       "\n",
       "    .dataframe tbody tr th {\n",
       "        vertical-align: top;\n",
       "    }\n",
       "\n",
       "    .dataframe thead th {\n",
       "        text-align: right;\n",
       "    }\n",
       "</style>\n",
       "<table border=\"1\" class=\"dataframe\">\n",
       "  <thead>\n",
       "    <tr style=\"text-align: right;\">\n",
       "      <th></th>\n",
       "      <th>id</th>\n",
       "      <th>created_at</th>\n",
       "      <th>updated_at</th>\n",
       "      <th>name</th>\n",
       "      <th>description</th>\n",
       "      <th>gsf_standards_version</th>\n",
       "      <th>estimated_annual_credits</th>\n",
       "      <th>crediting_period_start_date</th>\n",
       "      <th>crediting_period_end_date</th>\n",
       "      <th>methodology</th>\n",
       "      <th>...</th>\n",
       "      <th>Goal_2</th>\n",
       "      <th>Goal_11</th>\n",
       "      <th>Goal_9</th>\n",
       "      <th>Goal_10</th>\n",
       "      <th>Goal_16</th>\n",
       "      <th>Goal_14</th>\n",
       "      <th>crediting_days</th>\n",
       "      <th>VER_sold_percentage</th>\n",
       "      <th>VER_sold_percentage_per_day</th>\n",
       "      <th>continent_code</th>\n",
       "    </tr>\n",
       "  </thead>\n",
       "  <tbody>\n",
       "    <tr>\n",
       "      <th>0</th>\n",
       "      <td>3653</td>\n",
       "      <td>2022-07-25 14:23:52+00:00</td>\n",
       "      <td>2023-03-15 01:54:01+00:00</td>\n",
       "      <td>GS10789 VPA10: Efficient and Clean Cooking for...</td>\n",
       "      <td>This VPA deploys highly efficient improved cha...</td>\n",
       "      <td>Gold Standard for the Global Goals</td>\n",
       "      <td>311327</td>\n",
       "      <td>2021-03-30</td>\n",
       "      <td>2026-03-30</td>\n",
       "      <td>GS TPDDTEC v3.1</td>\n",
       "      <td>...</td>\n",
       "      <td>0</td>\n",
       "      <td>0</td>\n",
       "      <td>0</td>\n",
       "      <td>0</td>\n",
       "      <td>0</td>\n",
       "      <td>0</td>\n",
       "      <td>1826</td>\n",
       "      <td>0.0</td>\n",
       "      <td>0.0</td>\n",
       "      <td>AF</td>\n",
       "    </tr>\n",
       "    <tr>\n",
       "      <th>1</th>\n",
       "      <td>3649</td>\n",
       "      <td>2022-07-20 14:54:25+00:00</td>\n",
       "      <td>2023-03-27 18:37:46+00:00</td>\n",
       "      <td>TASC Clean Cooking PoA – VPA 3 (Zambia)</td>\n",
       "      <td>The goal of the proposed project is to distrib...</td>\n",
       "      <td>Gold Standard for the Global Goals</td>\n",
       "      <td>96484</td>\n",
       "      <td>2021-09-21</td>\n",
       "      <td>2026-09-20</td>\n",
       "      <td>GS TPDDTEC v3.1</td>\n",
       "      <td>...</td>\n",
       "      <td>0</td>\n",
       "      <td>0</td>\n",
       "      <td>0</td>\n",
       "      <td>0</td>\n",
       "      <td>0</td>\n",
       "      <td>0</td>\n",
       "      <td>1825</td>\n",
       "      <td>0.0</td>\n",
       "      <td>0.0</td>\n",
       "      <td>AF</td>\n",
       "    </tr>\n",
       "    <tr>\n",
       "      <th>2</th>\n",
       "      <td>3595</td>\n",
       "      <td>2022-06-23 05:52:18+00:00</td>\n",
       "      <td>2023-03-28 12:23:43+00:00</td>\n",
       "      <td>GS10818 - Dissemination of Improved Cookstoves...</td>\n",
       "      <td>The project involves providing access to clean...</td>\n",
       "      <td>Gold Standard for the Global Goals</td>\n",
       "      <td>39126</td>\n",
       "      <td>2022-03-01</td>\n",
       "      <td>2027-03-01</td>\n",
       "      <td>AMS-II.G. Energy Efficiency Measures in Therma...</td>\n",
       "      <td>...</td>\n",
       "      <td>0</td>\n",
       "      <td>0</td>\n",
       "      <td>0</td>\n",
       "      <td>0</td>\n",
       "      <td>0</td>\n",
       "      <td>0</td>\n",
       "      <td>1826</td>\n",
       "      <td>0.0</td>\n",
       "      <td>0.0</td>\n",
       "      <td>AS</td>\n",
       "    </tr>\n",
       "    <tr>\n",
       "      <th>3</th>\n",
       "      <td>3594</td>\n",
       "      <td>2022-06-23 05:52:03+00:00</td>\n",
       "      <td>2023-03-28 12:23:07+00:00</td>\n",
       "      <td>GS10818 - Dissemination of Improved Cookstoves...</td>\n",
       "      <td>The project involves providing access to clean...</td>\n",
       "      <td>Gold Standard for the Global Goals</td>\n",
       "      <td>39126</td>\n",
       "      <td>2022-01-21</td>\n",
       "      <td>2027-01-21</td>\n",
       "      <td>AMS-II.G. Energy Efficiency Measures in Therma...</td>\n",
       "      <td>...</td>\n",
       "      <td>0</td>\n",
       "      <td>0</td>\n",
       "      <td>0</td>\n",
       "      <td>0</td>\n",
       "      <td>0</td>\n",
       "      <td>0</td>\n",
       "      <td>1826</td>\n",
       "      <td>0.0</td>\n",
       "      <td>0.0</td>\n",
       "      <td>AS</td>\n",
       "    </tr>\n",
       "    <tr>\n",
       "      <th>4</th>\n",
       "      <td>3593</td>\n",
       "      <td>2022-06-23 05:51:46+00:00</td>\n",
       "      <td>2023-03-28 12:22:37+00:00</td>\n",
       "      <td>GS10818 - Dissemination of Improved Cookstoves...</td>\n",
       "      <td>The project involves providing access to clean...</td>\n",
       "      <td>Gold Standard for the Global Goals</td>\n",
       "      <td>39126</td>\n",
       "      <td>2021-12-20</td>\n",
       "      <td>2026-12-20</td>\n",
       "      <td>AMS-II.G. Energy Efficiency Measures in Therma...</td>\n",
       "      <td>...</td>\n",
       "      <td>0</td>\n",
       "      <td>0</td>\n",
       "      <td>0</td>\n",
       "      <td>0</td>\n",
       "      <td>0</td>\n",
       "      <td>0</td>\n",
       "      <td>1826</td>\n",
       "      <td>0.0</td>\n",
       "      <td>0.0</td>\n",
       "      <td>AS</td>\n",
       "    </tr>\n",
       "  </tbody>\n",
       "</table>\n",
       "<p>5 rows × 48 columns</p>\n",
       "</div>"
      ],
      "text/plain": [
       "     id                created_at                updated_at  \\\n",
       "0  3653 2022-07-25 14:23:52+00:00 2023-03-15 01:54:01+00:00   \n",
       "1  3649 2022-07-20 14:54:25+00:00 2023-03-27 18:37:46+00:00   \n",
       "2  3595 2022-06-23 05:52:18+00:00 2023-03-28 12:23:43+00:00   \n",
       "3  3594 2022-06-23 05:52:03+00:00 2023-03-28 12:23:07+00:00   \n",
       "4  3593 2022-06-23 05:51:46+00:00 2023-03-28 12:22:37+00:00   \n",
       "\n",
       "                                                name  \\\n",
       "0  GS10789 VPA10: Efficient and Clean Cooking for...   \n",
       "1            TASC Clean Cooking PoA – VPA 3 (Zambia)   \n",
       "2  GS10818 - Dissemination of Improved Cookstoves...   \n",
       "3  GS10818 - Dissemination of Improved Cookstoves...   \n",
       "4  GS10818 - Dissemination of Improved Cookstoves...   \n",
       "\n",
       "                                         description  \\\n",
       "0  This VPA deploys highly efficient improved cha...   \n",
       "1  The goal of the proposed project is to distrib...   \n",
       "2  The project involves providing access to clean...   \n",
       "3  The project involves providing access to clean...   \n",
       "4  The project involves providing access to clean...   \n",
       "\n",
       "                gsf_standards_version  estimated_annual_credits  \\\n",
       "0  Gold Standard for the Global Goals                    311327   \n",
       "1  Gold Standard for the Global Goals                     96484   \n",
       "2  Gold Standard for the Global Goals                     39126   \n",
       "3  Gold Standard for the Global Goals                     39126   \n",
       "4  Gold Standard for the Global Goals                     39126   \n",
       "\n",
       "  crediting_period_start_date crediting_period_end_date  \\\n",
       "0                  2021-03-30                2026-03-30   \n",
       "1                  2021-09-21                2026-09-20   \n",
       "2                  2022-03-01                2027-03-01   \n",
       "3                  2022-01-21                2027-01-21   \n",
       "4                  2021-12-20                2026-12-20   \n",
       "\n",
       "                                         methodology  ... Goal_2 Goal_11  \\\n",
       "0                                    GS TPDDTEC v3.1  ...      0       0   \n",
       "1                                    GS TPDDTEC v3.1  ...      0       0   \n",
       "2  AMS-II.G. Energy Efficiency Measures in Therma...  ...      0       0   \n",
       "3  AMS-II.G. Energy Efficiency Measures in Therma...  ...      0       0   \n",
       "4  AMS-II.G. Energy Efficiency Measures in Therma...  ...      0       0   \n",
       "\n",
       "   Goal_9 Goal_10 Goal_16 Goal_14 crediting_days  VER_sold_percentage  \\\n",
       "0       0       0       0       0           1826                  0.0   \n",
       "1       0       0       0       0           1825                  0.0   \n",
       "2       0       0       0       0           1826                  0.0   \n",
       "3       0       0       0       0           1826                  0.0   \n",
       "4       0       0       0       0           1826                  0.0   \n",
       "\n",
       "   VER_sold_percentage_per_day continent_code  \n",
       "0                          0.0             AF  \n",
       "1                          0.0             AF  \n",
       "2                          0.0             AS  \n",
       "3                          0.0             AS  \n",
       "4                          0.0             AS  \n",
       "\n",
       "[5 rows x 48 columns]"
      ]
     },
     "execution_count": 18,
     "metadata": {},
     "output_type": "execute_result"
    }
   ],
   "source": [
    "import sys\n",
    "sys.path.insert(0,\"..\")\n",
    "\n",
    "from src.utils import read_file_with_custom_data_types\n",
    "\n",
    "df = read_file_with_custom_data_types(\"../data/transformed/transform.csv\")\n",
    "\n",
    "df.head()"
   ]
  },
  {
   "cell_type": "code",
   "execution_count": 20,
   "metadata": {},
   "outputs": [
    {
     "data": {
      "text/plain": [
       "0    1194\n",
       "1     194\n",
       "Name: Goal_1, dtype: int64"
      ]
     },
     "execution_count": 20,
     "metadata": {},
     "output_type": "execute_result"
    }
   ],
   "source": [
    "df.Goal_1.value_counts()"
   ]
  },
  {
   "cell_type": "code",
   "execution_count": 10,
   "metadata": {},
   "outputs": [
    {
     "data": {
      "text/plain": [
       "array(['AF', 'AF', 'AS', ..., 'AF', 'AS', 'AS'], dtype=object)"
      ]
     },
     "execution_count": 10,
     "metadata": {},
     "output_type": "execute_result"
    }
   ],
   "source": [
    "df.continent_code.values"
   ]
  },
  {
   "cell_type": "code",
   "execution_count": 11,
   "metadata": {},
   "outputs": [
    {
     "data": {
      "text/plain": [
       "Index(['VER_sold_percentage_per_day', 'continent_code_AF', 'continent_code_AS',\n",
       "       'continent_code_EU', 'continent_code_OC', 'continent_code_SA',\n",
       "       'continent_code_nan', 'size_Large Scale', 'size_Micro Scale',\n",
       "       'size_Small Scale', 'type_A/R', 'type_Biogas - Cogeneration',\n",
       "       'type_Biogas - Electricity', 'type_Biogas - Heat',\n",
       "       'type_Biomass, or Liquid Biofuel - Electricity',\n",
       "       'type_Biomass, or Liquid Biofuel - Heat',\n",
       "       'type_Energy Efficiency - Domestic',\n",
       "       'type_Energy Efficiency - Industrial',\n",
       "       'type_Energy Efficiency - Public Sector',\n",
       "       'type_Energy Efficiency - Transport Sector', 'type_Geothermal',\n",
       "       'type_Other', 'type_Small, Low - Impact Hydro',\n",
       "       'type_Solar Thermal - Electricity', 'type_Solar Thermal - Heat',\n",
       "       'type_Wind'],\n",
       "      dtype='object')"
      ]
     },
     "execution_count": 11,
     "metadata": {},
     "output_type": "execute_result"
    }
   ],
   "source": [
    "import numpy as np\n",
    "from sklearn.compose import ColumnTransformer\n",
    "from sklearn.impute import SimpleImputer\n",
    "from sklearn.pipeline import Pipeline\n",
    "from sklearn.preprocessing import OneHotEncoder,StandardScaler\n",
    "\n",
    "np.random.seed(108)\n",
    "\n",
    "numerical_columns = [\"VER_sold_percentage_per_day\"]\n",
    "categorical_columns = [\n",
    "    \"continent_code\",\n",
    "    \"size\",\n",
    "    \"type\",\n",
    "]\n",
    "\n",
    "num_pipeline= Pipeline(\n",
    "    steps=[\n",
    "    # (\"imputer\",SimpleImputer(strategy=\"median\")),\n",
    "    (\"scaler\",StandardScaler())\n",
    "    ]\n",
    ")\n",
    "\n",
    "cat_pipeline=Pipeline(\n",
    "    steps=[\n",
    "    # (\"imputer\",SimpleImputer(strategy=\"most_frequent\")),\n",
    "    (\"one_hot_encoder\",OneHotEncoder(handle_unknown='ignore', sparse_output=False)),\n",
    "    (\"scaler\",StandardScaler(with_mean=False))\n",
    "    ]\n",
    ")\n",
    "\n",
    "preprocessor=ColumnTransformer(\n",
    "    [\n",
    "    (\"num_pipeline\",num_pipeline,numerical_columns),\n",
    "    (\"cat_pipelines\",cat_pipeline,categorical_columns)\n",
    "    ],\n",
    "    #remainder='passthrough',\n",
    "    verbose_feature_names_out = False\n",
    ")\n",
    "\n",
    "preprocessor.set_output(transform=\"pandas\")\n",
    "\n",
    "X = preprocessor.fit_transform(df)\n",
    "X.columns\n"
   ]
  },
  {
   "cell_type": "code",
   "execution_count": 12,
   "metadata": {},
   "outputs": [
    {
     "data": {
      "image/png": "[encoded data removed]",
      "text/plain": [
       "<Figure size 640x480 with 1 Axes>"
      ]
     },
     "metadata": {},
     "output_type": "display_data"
    }
   ],
   "source": [
    "from sklearn.cluster import KMeans\n",
    "import matplotlib.pyplot as plt\n",
    "\n",
    "wcss=[]\n",
    "for i in range(1,11):\n",
    "    kmeans=KMeans(n_clusters=i,init='k-means++',n_init=1, random_state=108)\n",
    "    kmeans.fit(X)\n",
    "    wcss.append(kmeans.inertia_)\n",
    "\n",
    "plt.plot(range(1,11),wcss)\n",
    "plt.title('The Elbow Method')\n",
    "plt.xlabel('Number of Clusters')\n",
    "plt.ylabel('WCSS')\n",
    "plt.show()"
   ]
  },
  {
   "cell_type": "code",
   "execution_count": 13,
   "metadata": {},
   "outputs": [
    {
     "data": {
      "text/plain": [
       "1    686\n",
       "2    445\n",
       "0    257\n",
       "Name: K_Means_Cluster, dtype: int64"
      ]
     },
     "execution_count": 13,
     "metadata": {},
     "output_type": "execute_result"
    }
   ],
   "source": [
    "kmeans=KMeans(n_clusters=3,init='k-means++',n_init=1, random_state=108)\n",
    "y_kmeans=kmeans.fit_predict(X)\n",
    "\n",
    "df['K_Means_Cluster'] = y_kmeans\n",
    "\n",
    "df['K_Means_Cluster'].value_counts()"
   ]
  },
  {
   "cell_type": "code",
   "execution_count": 14,
   "metadata": {},
   "outputs": [
    {
     "data": {
      "image/png": "[encoded data removed]",
      "text/plain": [
       "<Figure size 640x480 with 1 Axes>"
      ]
     },
     "metadata": {},
     "output_type": "display_data"
    }
   ],
   "source": [
    "from sklearn.decomposition import PCA\n",
    "\n",
    "\n",
    "# Reduce the dimensions using PCA\n",
    "pca = PCA(n_components=2)\n",
    "X_ = pca.fit_transform(X)\n",
    "\n",
    "#Visualize the clusters\n",
    "\n",
    "plt.scatter(X_[y_kmeans==0,0],X_[y_kmeans==0,1],s=100,c='red',label='Cluster1')\n",
    "plt.scatter(X_[y_kmeans==1,0],X_[y_kmeans==1,1],s=100,c='blue',label='Cluster2')\n",
    "plt.scatter(X_[y_kmeans==2,0],X_[y_kmeans==2,1],s=100,c='green',label='Cluster3')\n",
    "# plt.scatter(X_[y_kmeans==3,0],X_[y_kmeans==3,1],s=100,c='cyan',label='Cluster4')\n",
    "# plt.scatter(X_[y_kmeans==4,0],X_[y_kmeans==4,1],s=100,c='magenta',label='Cluster5')\n",
    "\n",
    "plt.scatter(kmeans.cluster_centers_[:,0],kmeans.cluster_centers_[:,1],s=300,c='yellow',label='Centroids')\n",
    "\n",
    "plt.title('Clusters of project')\n",
    "plt.legend()\n",
    "plt.show()\n"
   ]
  },
  {
   "attachments": {},
   "cell_type": "markdown",
   "metadata": {},
   "source": [
    "### Using Fuzzy Clustering"
   ]
  },
  {
   "cell_type": "code",
   "execution_count": 15,
   "metadata": {},
   "outputs": [
    {
     "name": "stdout",
     "output_type": "stream",
     "text": [
      "Cluster 1 center: [-0.28281473  0.22395769 -0.04045024]\n",
      "Number of data points in cluster 1: 415\n",
      "Cluster 2 center: [0.25489876 1.77575963 0.11549949]\n",
      "Number of data points in cluster 2: 622\n",
      "Cluster 3 center: [1.63897221 0.21281803 1.79350989]\n",
      "Number of data points in cluster 3: 351\n",
      "\n",
      "1    622\n",
      "0    415\n",
      "2    351\n",
      "Name: Fuzzy_Cluster, dtype: int64\n"
     ]
    }
   ],
   "source": [
    "import numpy as np\n",
    "import pandas as pd\n",
    "import skfuzzy as fuzz\n",
    "\n",
    "# Set the number of clusters and fuzziness parameter\n",
    "num_clusters = 3\n",
    "fuzziness_param = 2\n",
    "\n",
    "# Initialize the cluster centers and membership matrix\n",
    "#cluster_centers, membership_matrix\n",
    "cluster_centers, cluster_membership, u0, d, jm, p, fpc = fuzz.cluster.cmeans(\n",
    "    X.T, num_clusters, fuzziness_param, error=0.005, maxiter=1000, init=None)\n",
    "\n",
    "# Assign each data point to the cluster with the highest membership probability\n",
    "cluster_labels = np.argmax(cluster_membership, axis=0)\n",
    "\n",
    "# Print the cluster centers and number of data points in each cluster\n",
    "for i in range(num_clusters):\n",
    "    cluster_data = X.iloc[cluster_labels == i]\n",
    "    print(f'Cluster {i+1} center: {cluster_centers[:, i]}')\n",
    "    print(f'Number of data points in cluster {i+1}: {len(cluster_data)}')\n",
    "\n",
    "\n",
    "\n",
    "df['Fuzzy_Cluster'] = cluster_labels\n",
    "\n",
    "print()\n",
    "print(df['Fuzzy_Cluster'].value_counts())"
   ]
  },
  {
   "cell_type": "code",
   "execution_count": 16,
   "metadata": {},
   "outputs": [],
   "source": [
    "df.to_csv('../data/predictions/clustered.csv',index=False, header=True)"
   ]
  }
 ],
 "metadata": {
  "kernelspec": {
   "display_name": "Python 3",
   "language": "python",
   "name": "python3"
  },
  "language_info": {
   "codemirror_mode": {
    "name": "ipython",
    "version": 3
   },
   "file_extension": ".py",
   "mimetype": "text/x-python",
   "name": "python",
   "nbconvert_exporter": "python",
   "pygments_lexer": "ipython3",
   "version": "3.9.9"
  },
  "orig_nbformat": 4
 },
 "nbformat": 4,
 "nbformat_minor": 2
}
