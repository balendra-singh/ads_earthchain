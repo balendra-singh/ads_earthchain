{
 "cells": [
  {
   "cell_type": "code",
   "execution_count": 31,
   "metadata": {},
   "outputs": [
    {
     "data": {
      "text/plain": [
       "id                                             Int64\n",
       "created_at                       datetime64[ns, UTC]\n",
       "updated_at                       datetime64[ns, UTC]\n",
       "name                                          object\n",
       "description                                   object\n",
       "gsf_standards_version                         object\n",
       "estimated_annual_credits                       Int64\n",
       "crediting_period_start_date           datetime64[ns]\n",
       "crediting_period_end_date             datetime64[ns]\n",
       "methodology                                   object\n",
       "type                                          object\n",
       "size                                          object\n",
       "sustaincert_id                                 int64\n",
       "sustaincert_url                               object\n",
       "project_developer                             object\n",
       "country                                       object\n",
       "country_code                                  object\n",
       "latitude                                     float64\n",
       "longitude                                    float64\n",
       "carbon_stream                                 object\n",
       "programme_of_activities                       object\n",
       "poa_project_id                                 Int64\n",
       "poa_project_sustaincert_id                     Int64\n",
       "poa_project_name                              object\n",
       "sustainable_development_goals                 object\n",
       "VER_issued_credits                           float64\n",
       "VER_retired_credits                          float64\n",
       "Goal_3                                          bool\n",
       "Goal_1                                          bool\n",
       "Goal_13                                         bool\n",
       "Goal_7                                          bool\n",
       "Goal_8                                          bool\n",
       "Goal_12                                         bool\n",
       "Goal_5                                          bool\n",
       "Goal_15                                         bool\n",
       "Goal_6                                          bool\n",
       "Goal_4                                          bool\n",
       "Goal_17                                         bool\n",
       "Goal_2                                          bool\n",
       "Goal_11                                         bool\n",
       "Goal_9                                          bool\n",
       "Goal_10                                         bool\n",
       "Goal_16                                         bool\n",
       "Goal_14                                         bool\n",
       "crediting_days                                 int64\n",
       "VER_sold_percentage                          float64\n",
       "VER_sold_percentage_per_day                  float64\n",
       "dtype: object"
      ]
     },
     "execution_count": 31,
     "metadata": {},
     "output_type": "execute_result"
    }
   ],
   "source": [
    "import sys\n",
    "sys.path.insert(0,\"..\")\n",
    "\n",
    "from src.utils import read_file_with_custom_data_types\n",
    "\n",
    "df = read_file_with_custom_data_types(\"../data/transformed/transform.csv\")\n",
    "\n",
    "df.dtypes"
   ]
  }
 ],
 "metadata": {
  "kernelspec": {
   "display_name": "Python 3",
   "language": "python",
   "name": "python3"
  },
  "language_info": {
   "codemirror_mode": {
    "name": "ipython",
    "version": 3
   },
   "file_extension": ".py",
   "mimetype": "text/x-python",
   "name": "python",
   "nbconvert_exporter": "python",
   "pygments_lexer": "ipython3",
   "version": "3.9.9"
  },
  "orig_nbformat": 4
 },
 "nbformat": 4,
 "nbformat_minor": 2
}
